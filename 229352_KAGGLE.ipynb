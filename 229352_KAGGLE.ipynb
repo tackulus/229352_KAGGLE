{
  "nbformat": 4,
  "nbformat_minor": 0,
  "metadata": {
    "accelerator": "GPU",
    "colab": {
      "name": "229352_KAGGLE.ipynb",
      "provenance": [],
      "collapsed_sections": [],
      "machine_shape": "hm",
      "include_colab_link": true
    },
    "kernelspec": {
      "display_name": "Python 3",
      "name": "python3"
    },
    "language_info": {
      "name": "python"
    }
  },
  "cells": [
    {
      "cell_type": "markdown",
      "metadata": {
        "id": "view-in-github",
        "colab_type": "text"
      },
      "source": [
        "<a href=\"https://colab.research.google.com/github/tackulus/229352_KAGGLE/blob/New/229352_KAGGLE.ipynb\" target=\"_parent\"><img src=\"https://colab.research.google.com/assets/colab-badge.svg\" alt=\"Open In Colab\"/></a>"
      ]
    },
    {
      "cell_type": "code",
      "metadata": {
        "colab": {
          "base_uri": "https://localhost:8080/"
        },
        "id": "dwSDMb0Zm32p",
        "outputId": "0a548489-706a-4a28-c3b9-cfaf80e5761c"
      },
      "source": [
        "%%capture\n",
        "from google.colab import drive\n",
        "drive.mount('/content/drive')\n",
        "\n",
        "!unzip /content/drive/MyDrive/ECG/ECG.zip;"
      ],
      "execution_count": null,
      "outputs": [
        {
          "name": "stdout",
          "output_type": "stream",
          "text": [
            "Go to this URL in a browser: https://accounts.google.com/o/oauth2/auth?client_id=947318989803-6bn6qk8qdgf4n4g3pfee6491hc0brc4i.apps.googleusercontent.com&redirect_uri=urn%3aietf%3awg%3aoauth%3a2.0%3aoob&scope=email%20https%3a%2f%2fwww.googleapis.com%2fauth%2fdocs.test%20https%3a%2f%2fwww.googleapis.com%2fauth%2fdrive%20https%3a%2f%2fwww.googleapis.com%2fauth%2fdrive.photos.readonly%20https%3a%2f%2fwww.googleapis.com%2fauth%2fpeopleapi.readonly%20https%3a%2f%2fwww.googleapis.com%2fauth%2fdrive.activity.readonly%20https%3a%2f%2fwww.googleapis.com%2fauth%2fexperimentsandconfigs%20https%3a%2f%2fwww.googleapis.com%2fauth%2fphotos.native&response_type=code\n",
            "\n",
            "Enter your authorization code:\n",
            "4/1AX4XfWjTWZMEBQZBQXxhDd9aF-J83kKqskIlhajS-Zz8i9Aj8fjLk6r7DKA\n"
          ]
        }
      ]
    },
    {
      "cell_type": "code",
      "metadata": {
        "id": "pbt4mCazKDm_"
      },
      "source": [
        "import numpy as np\n",
        "import pandas as pd"
      ],
      "execution_count": null,
      "outputs": []
    },
    {
      "cell_type": "code",
      "metadata": {
        "colab": {
          "base_uri": "https://localhost:8080/"
        },
        "id": "z0HuVWnBbNAX",
        "outputId": "c8d973a7-473c-4914-a58a-efbae33fa485"
      },
      "source": [
        "X_data = np.load('/content/ECG_X_train.npy')\n",
        "X_data.shape"
      ],
      "execution_count": null,
      "outputs": [
        {
          "output_type": "execute_result",
          "data": {
            "text/plain": [
              "(14630, 1000, 12)"
            ]
          },
          "metadata": {},
          "execution_count": 3
        }
      ]
    },
    {
      "cell_type": "code",
      "metadata": {
        "colab": {
          "base_uri": "https://localhost:8080/"
        },
        "id": "nKf0Mb_OnJAX",
        "outputId": "a2c22ab7-ec51-4a06-904b-30918fc4b679"
      },
      "source": [
        "y_data = np.load('/content/ECG_y_train.npy')\n",
        "y_data.shape"
      ],
      "execution_count": null,
      "outputs": [
        {
          "output_type": "execute_result",
          "data": {
            "text/plain": [
              "(14630,)"
            ]
          },
          "metadata": {},
          "execution_count": 4
        }
      ]
    },
    {
      "cell_type": "code",
      "metadata": {
        "id": "P84U-YvKoG2A"
      },
      "source": [
        "from sklearn.model_selection import train_test_split\n",
        "\n",
        "X_train, X_valid, y_train, y_valid = \\\n",
        "    train_test_split(X_data, y_data, test_size=.25, random_state=177)"
      ],
      "execution_count": null,
      "outputs": []
    },
    {
      "cell_type": "code",
      "metadata": {
        "id": "mdlmRYuQ9Mb5"
      },
      "source": [
        "# from tensorflow.keras.utils import to_categorical\n",
        "\n",
        "# y_train = to_categorical(y_train)\n",
        "# y_valid = to_categorical(y_valid)"
      ],
      "execution_count": null,
      "outputs": []
    },
    {
      "cell_type": "code",
      "metadata": {
        "colab": {
          "base_uri": "https://localhost:8080/"
        },
        "id": "Z6GFwClzsuSk",
        "outputId": "c9eea032-b0f9-4eb2-e268-ebe5f1ac94a6"
      },
      "source": [
        "from tensorflow.keras.preprocessing import timeseries_dataset_from_array\n",
        "\n",
        "def make_dataset(data, target, batch_size=64):\n",
        "    dataset = timeseries_dataset_from_array(\n",
        "        data=data,\n",
        "        targets=target,\n",
        "        sequence_length=1,\n",
        "        sequence_stride=1,\n",
        "        shuffle=False,\n",
        "        batch_size=batch_size,\n",
        "    )\n",
        "\n",
        "    X, y = next(iter(dataset))\n",
        "    print(\">>\", X.shape, y.shape)\n",
        "    return dataset\n",
        "\n",
        "train_batch = make_dataset(X_train, y_train)\n",
        "valid_batch = make_dataset(X_valid, y_valid)"
      ],
      "execution_count": null,
      "outputs": [
        {
          "output_type": "stream",
          "name": "stdout",
          "text": [
            ">> (64, 1, 1000, 12) (64, 5)\n",
            ">> (64, 1, 1000, 12) (64, 5)\n"
          ]
        }
      ]
    },
    {
      "cell_type": "markdown",
      "metadata": {
        "id": "wLj6li5fznZL"
      },
      "source": [
        "\n",
        "\n",
        "```\n",
        "# This is formatted as code\n",
        "```\n",
        "\n",
        "## Convolutional neural network\n",
        "\n",
        "> https://towardsdatascience.com/time-series-classification-with-deep-learning-d238f0147d6f"
      ]
    },
    {
      "cell_type": "markdown",
      "metadata": {
        "id": "pROxC1dP1ZY2"
      },
      "source": [
        "### submission04 acc=0.75639"
      ]
    },
    {
      "cell_type": "code",
      "metadata": {
        "id": "8RMJFfHKtspM"
      },
      "source": [
        "import tensorflow as tf\n",
        "from tensorflow import keras \n",
        "\n",
        "def create_cnn_model(activation='relu',dropout=0.25,optimizer='adam',learn_rate=0.002):\n",
        "    np.random.seed(1)\n",
        "    tf.random.set_seed(1)\n",
        "    model = None\n",
        "    model = keras.Sequential()\n",
        "\n",
        "    model.add(keras.layers.Conv2D(128, 5, input_shape=(X_train.shape[1], X_train.shape[2], 1), activation=activation))\n",
        "    model.add(keras.layers.Dropout(dropout))\n",
        "    model.add(keras.layers.MaxPool2D())\n",
        "\n",
        "    model.add(keras.layers.Conv2D(64, 5, activation=activation,padding='same'))\n",
        "    model.add(keras.layers.Dropout(dropout))\n",
        "    model.add(keras.layers.MaxPool2D())\n",
        "\n",
        "    model.add(keras.layers.Conv2D(64, 5, activation=activation,padding='same'))\n",
        "    model.add(keras.layers.Dropout(dropout))\n",
        "    model.add(keras.layers.MaxPool2D())\n",
        "\n",
        "    model.add(keras.layers.Flatten())\n",
        "    model.add(keras.layers.Dense(128, activation=activation))\n",
        "    model.add(keras.layers.Dropout(dropout))\n",
        "\n",
        "    model.add(keras.layers.Dense(64, activation=activation))\n",
        "    model.add(keras.layers.Dropout(dropout))\n",
        "\n",
        "    model.add(keras.layers.Dense(5, activation='softmax'))\n",
        "\n",
        "    optimizer = tf.keras.optimizers.Adam(lr=learn_rate)\n",
        "    model.compile(optimizer=optimizer, loss='sparse_categorical_crossentropy', metrics=['accuracy'])\n",
        "\n",
        "    model.summary()\n",
        "\n",
        "    return model"
      ],
      "execution_count": null,
      "outputs": []
    },
    {
      "cell_type": "code",
      "metadata": {
        "colab": {
          "base_uri": "https://localhost:8080/"
        },
        "id": "RZmuCeC0tugs",
        "outputId": "7efa8b20-3ef3-4879-a560-e796e2cf1ede"
      },
      "source": [
        "from tensorflow.keras.callbacks import EarlyStopping\n",
        "earlystopping = EarlyStopping(monitor='val_accuracy',\n",
        "                              patience=10,\n",
        "                              restore_best_weights=True)\n",
        "\n",
        "model_cnn = create_cnn_model(activation='relu',dropout=0.25,optimizer='adam',learn_rate=0.001)\n",
        "history = model_cnn.fit(X_train[:,:,:,None], y_train, epochs=100, validation_data=(X_valid[:,:,:,None],y_valid),batch_size=80,verbose=1,callbacks=[earlystopping])"
      ],
      "execution_count": null,
      "outputs": [
        {
          "output_type": "stream",
          "name": "stderr",
          "text": [
            "/usr/local/lib/python3.7/dist-packages/keras/optimizer_v2/optimizer_v2.py:356: UserWarning: The `lr` argument is deprecated, use `learning_rate` instead.\n",
            "  \"The `lr` argument is deprecated, use `learning_rate` instead.\")\n"
          ]
        },
        {
          "output_type": "stream",
          "name": "stdout",
          "text": [
            "Model: \"sequential_6\"\n",
            "_________________________________________________________________\n",
            "Layer (type)                 Output Shape              Param #   \n",
            "=================================================================\n",
            "conv2d_18 (Conv2D)           (None, 996, 8, 128)       3328      \n",
            "_________________________________________________________________\n",
            "dropout_30 (Dropout)         (None, 996, 8, 128)       0         \n",
            "_________________________________________________________________\n",
            "max_pooling2d_18 (MaxPooling (None, 498, 4, 128)       0         \n",
            "_________________________________________________________________\n",
            "conv2d_19 (Conv2D)           (None, 498, 4, 64)        204864    \n",
            "_________________________________________________________________\n",
            "dropout_31 (Dropout)         (None, 498, 4, 64)        0         \n",
            "_________________________________________________________________\n",
            "max_pooling2d_19 (MaxPooling (None, 249, 2, 64)        0         \n",
            "_________________________________________________________________\n",
            "conv2d_20 (Conv2D)           (None, 249, 2, 64)        102464    \n",
            "_________________________________________________________________\n",
            "dropout_32 (Dropout)         (None, 249, 2, 64)        0         \n",
            "_________________________________________________________________\n",
            "max_pooling2d_20 (MaxPooling (None, 124, 1, 64)        0         \n",
            "_________________________________________________________________\n",
            "flatten_6 (Flatten)          (None, 7936)              0         \n",
            "_________________________________________________________________\n",
            "dense_17 (Dense)             (None, 128)               1015936   \n",
            "_________________________________________________________________\n",
            "dropout_33 (Dropout)         (None, 128)               0         \n",
            "_________________________________________________________________\n",
            "dense_18 (Dense)             (None, 64)                8256      \n",
            "_________________________________________________________________\n",
            "dropout_34 (Dropout)         (None, 64)                0         \n",
            "_________________________________________________________________\n",
            "dense_19 (Dense)             (None, 5)                 325       \n",
            "=================================================================\n",
            "Total params: 1,335,173\n",
            "Trainable params: 1,335,173\n",
            "Non-trainable params: 0\n",
            "_________________________________________________________________\n",
            "Epoch 1/100\n",
            "138/138 [==============================] - 11s 70ms/step - loss: 1.3664 - accuracy: 0.5675 - val_loss: 1.0519 - val_accuracy: 0.6052\n",
            "Epoch 2/100\n",
            "138/138 [==============================] - 9s 68ms/step - loss: 0.9221 - accuracy: 0.6753 - val_loss: 1.0080 - val_accuracy: 0.6020\n",
            "Epoch 3/100\n",
            "138/138 [==============================] - 9s 68ms/step - loss: 0.7802 - accuracy: 0.7386 - val_loss: 0.8339 - val_accuracy: 0.6971\n",
            "Epoch 4/100\n",
            "138/138 [==============================] - 9s 69ms/step - loss: 0.7056 - accuracy: 0.7640 - val_loss: 0.7004 - val_accuracy: 0.7507\n",
            "Epoch 5/100\n",
            "138/138 [==============================] - 9s 69ms/step - loss: 0.6437 - accuracy: 0.7801 - val_loss: 0.9577 - val_accuracy: 0.6616\n",
            "Epoch 6/100\n",
            "138/138 [==============================] - 10s 69ms/step - loss: 0.5877 - accuracy: 0.7927 - val_loss: 0.8517 - val_accuracy: 0.7064\n",
            "Epoch 7/100\n",
            "138/138 [==============================] - 9s 69ms/step - loss: 0.5425 - accuracy: 0.8090 - val_loss: 0.6786 - val_accuracy: 0.7608\n",
            "Epoch 8/100\n",
            "138/138 [==============================] - 9s 69ms/step - loss: 0.5025 - accuracy: 0.8205 - val_loss: 0.8033 - val_accuracy: 0.7466\n",
            "Epoch 9/100\n",
            "138/138 [==============================] - 9s 68ms/step - loss: 0.4599 - accuracy: 0.8365 - val_loss: 0.7625 - val_accuracy: 0.7594\n",
            "Epoch 10/100\n",
            "138/138 [==============================] - 9s 68ms/step - loss: 0.4334 - accuracy: 0.8462 - val_loss: 0.7021 - val_accuracy: 0.7715\n",
            "Epoch 11/100\n",
            "138/138 [==============================] - 9s 68ms/step - loss: 0.4027 - accuracy: 0.8575 - val_loss: 0.7397 - val_accuracy: 0.7616\n",
            "Epoch 12/100\n",
            "138/138 [==============================] - 9s 68ms/step - loss: 0.3729 - accuracy: 0.8695 - val_loss: 0.8574 - val_accuracy: 0.7395\n",
            "Epoch 13/100\n",
            "138/138 [==============================] - 9s 69ms/step - loss: 0.3497 - accuracy: 0.8780 - val_loss: 0.7992 - val_accuracy: 0.7608\n",
            "Epoch 14/100\n",
            "138/138 [==============================] - 9s 69ms/step - loss: 0.3283 - accuracy: 0.8857 - val_loss: 0.9236 - val_accuracy: 0.7430\n",
            "Epoch 15/100\n",
            "138/138 [==============================] - 9s 69ms/step - loss: 0.3104 - accuracy: 0.8892 - val_loss: 1.2528 - val_accuracy: 0.7630\n",
            "Epoch 16/100\n",
            "138/138 [==============================] - 9s 69ms/step - loss: 0.2931 - accuracy: 0.9007 - val_loss: 1.4190 - val_accuracy: 0.7261\n",
            "Epoch 17/100\n",
            "138/138 [==============================] - 9s 69ms/step - loss: 0.2868 - accuracy: 0.9057 - val_loss: 1.2460 - val_accuracy: 0.7709\n",
            "Epoch 18/100\n",
            "138/138 [==============================] - 9s 68ms/step - loss: 0.2663 - accuracy: 0.9099 - val_loss: 1.1375 - val_accuracy: 0.7518\n",
            "Epoch 19/100\n",
            "138/138 [==============================] - 9s 68ms/step - loss: 0.2556 - accuracy: 0.9157 - val_loss: 1.6357 - val_accuracy: 0.7608\n",
            "Epoch 20/100\n",
            "138/138 [==============================] - 9s 68ms/step - loss: 0.2514 - accuracy: 0.9136 - val_loss: 1.0540 - val_accuracy: 0.7616\n"
          ]
        }
      ]
    },
    {
      "cell_type": "code",
      "metadata": {
        "colab": {
          "base_uri": "https://localhost:8080/"
        },
        "id": "pCu-XbisxOPV",
        "outputId": "236ed021-4743-494d-a707-f8775b949ae2"
      },
      "source": [
        "model_cnn.evaluate(X_valid[:,:,:,None],y_valid,verbose=0)[1]"
      ],
      "execution_count": null,
      "outputs": [
        {
          "output_type": "execute_result",
          "data": {
            "text/plain": [
              "0.7714598178863525"
            ]
          },
          "metadata": {},
          "execution_count": 30
        }
      ]
    },
    {
      "cell_type": "code",
      "metadata": {
        "colab": {
          "base_uri": "https://localhost:8080/"
        },
        "id": "vRCWgURQxgHd",
        "outputId": "7e066c3f-2c33-43e5-d18e-7e3aa6c5ad9c"
      },
      "source": [
        "X_test = np.load('/content/ECG_X_test.npy')\n",
        "\n",
        "preds = model_cnn.predict(X_test[:,:,:,None])\n",
        "y_test = np.argmax(preds, axis=-1)\n",
        "y_test = pd.DataFrame({'Class': y_test})\n",
        "y_test.insert(0, 'Patient_ID', y_test.index)\n",
        "y_test.shape"
      ],
      "execution_count": null,
      "outputs": [
        {
          "output_type": "execute_result",
          "data": {
            "text/plain": [
              "(1642, 2)"
            ]
          },
          "metadata": {},
          "execution_count": 25
        }
      ]
    },
    {
      "cell_type": "code",
      "metadata": {
        "id": "HXDw4dMZxiSV"
      },
      "source": [
        "y_test.to_csv('y_test.csv', index=False)\n",
        "model_cnn.save('submission04.h5')"
      ],
      "execution_count": null,
      "outputs": []
    }
  ]
}