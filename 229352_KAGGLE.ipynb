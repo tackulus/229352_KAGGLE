{
  "nbformat": 4,
  "nbformat_minor": 0,
  "metadata": {
    "accelerator": "GPU",
    "colab": {
      "name": "229352_KAGGLE.ipynb",
      "provenance": [],
      "collapsed_sections": [],
      "machine_shape": "hm",
      "include_colab_link": true
    },
    "kernelspec": {
      "display_name": "Python 3",
      "name": "python3"
    },
    "language_info": {
      "name": "python"
    }
  },
  "cells": [
    {
      "cell_type": "markdown",
      "metadata": {
        "id": "view-in-github",
        "colab_type": "text"
      },
      "source": [
        "<a href=\"https://colab.research.google.com/github/tackulus/229352_KAGGLE/blob/New/229352_KAGGLE.ipynb\" target=\"_parent\"><img src=\"https://colab.research.google.com/assets/colab-badge.svg\" alt=\"Open In Colab\"/></a>"
      ]
    },
    {
      "cell_type": "code",
      "metadata": {
        "colab": {
          "base_uri": "https://localhost:8080/"
        },
        "id": "dwSDMb0Zm32p",
        "outputId": "d4f06e6a-fedc-492c-e839-d2cdae7d7f6a"
      },
      "source": [
        "%%capture\n",
        "from google.colab import drive\n",
        "drive.mount('/content/drive')\n",
        "\n",
        "!unzip /content/drive/MyDrive/ECG/ECG.zip;"
      ],
      "execution_count": 1,
      "outputs": [
        {
          "name": "stdout",
          "output_type": "stream",
          "text": [
            "Go to this URL in a browser: https://accounts.google.com/o/oauth2/auth?client_id=947318989803-6bn6qk8qdgf4n4g3pfee6491hc0brc4i.apps.googleusercontent.com&redirect_uri=urn%3aietf%3awg%3aoauth%3a2.0%3aoob&scope=email%20https%3a%2f%2fwww.googleapis.com%2fauth%2fdocs.test%20https%3a%2f%2fwww.googleapis.com%2fauth%2fdrive%20https%3a%2f%2fwww.googleapis.com%2fauth%2fdrive.photos.readonly%20https%3a%2f%2fwww.googleapis.com%2fauth%2fpeopleapi.readonly%20https%3a%2f%2fwww.googleapis.com%2fauth%2fdrive.activity.readonly%20https%3a%2f%2fwww.googleapis.com%2fauth%2fexperimentsandconfigs%20https%3a%2f%2fwww.googleapis.com%2fauth%2fphotos.native&response_type=code\n",
            "\n",
            "Enter your authorization code:\n",
            "4/1AX4XfWi7o2-t63u9BAoIrWdF6w-nnHOxoP6TMYnBW3aNwPF6ceV1Yn4Bg2s\n"
          ]
        }
      ]
    },
    {
      "cell_type": "code",
      "metadata": {
        "id": "pbt4mCazKDm_"
      },
      "source": [
        "import numpy as np\n",
        "import pandas as pd"
      ],
      "execution_count": 2,
      "outputs": []
    },
    {
      "cell_type": "code",
      "metadata": {
        "colab": {
          "base_uri": "https://localhost:8080/"
        },
        "id": "z0HuVWnBbNAX",
        "outputId": "f260ec09-ba20-4681-d276-65a75f8f658a"
      },
      "source": [
        "X_data = np.load('/content/ECG_X_train.npy')\n",
        "X_data.shape"
      ],
      "execution_count": 3,
      "outputs": [
        {
          "output_type": "execute_result",
          "data": {
            "text/plain": [
              "(14630, 1000, 12)"
            ]
          },
          "metadata": {},
          "execution_count": 3
        }
      ]
    },
    {
      "cell_type": "code",
      "metadata": {
        "colab": {
          "base_uri": "https://localhost:8080/"
        },
        "id": "nKf0Mb_OnJAX",
        "outputId": "918cde34-737e-4810-d699-82ce08f033c0"
      },
      "source": [
        "y_data = np.load('/content/ECG_y_train.npy')\n",
        "y_data.shape"
      ],
      "execution_count": 4,
      "outputs": [
        {
          "output_type": "execute_result",
          "data": {
            "text/plain": [
              "(14630,)"
            ]
          },
          "metadata": {},
          "execution_count": 4
        }
      ]
    },
    {
      "cell_type": "code",
      "metadata": {
        "id": "P84U-YvKoG2A"
      },
      "source": [
        "from sklearn.model_selection import train_test_split\n",
        "\n",
        "X_train, X_valid, y_train, y_valid = \\\n",
        "    train_test_split(X_data, y_data, test_size=.25, random_state=177)"
      ],
      "execution_count": 5,
      "outputs": []
    },
    {
      "cell_type": "code",
      "metadata": {
        "id": "mdlmRYuQ9Mb5"
      },
      "source": [
        "from tensorflow.keras.utils import to_categorical\n",
        "\n",
        "y_train = to_categorical(y_train)\n",
        "y_valid = to_categorical(y_valid)"
      ],
      "execution_count": 6,
      "outputs": []
    },
    {
      "cell_type": "code",
      "metadata": {
        "colab": {
          "base_uri": "https://localhost:8080/"
        },
        "id": "Z6GFwClzsuSk",
        "outputId": "c9eea032-b0f9-4eb2-e268-ebe5f1ac94a6"
      },
      "source": [
        "from tensorflow.keras.preprocessing import timeseries_dataset_from_array\n",
        "\n",
        "def make_dataset(data, target, batch_size=64):\n",
        "    dataset = timeseries_dataset_from_array(\n",
        "        data=data,\n",
        "        targets=target,\n",
        "        sequence_length=1,\n",
        "        sequence_stride=1,\n",
        "        shuffle=False,\n",
        "        batch_size=batch_size,\n",
        "    )\n",
        "\n",
        "    X, y = next(iter(dataset))\n",
        "    print(\">>\", X.shape, y.shape)\n",
        "    return dataset\n",
        "\n",
        "train_batch = make_dataset(X_train, y_train)\n",
        "valid_batch = make_dataset(X_valid, y_valid)"
      ],
      "execution_count": 7,
      "outputs": [
        {
          "output_type": "stream",
          "name": "stdout",
          "text": [
            ">> (64, 1, 1000, 12) (64, 5)\n",
            ">> (64, 1, 1000, 12) (64, 5)\n"
          ]
        }
      ]
    },
    {
      "cell_type": "markdown",
      "metadata": {
        "id": "ax-gT1FuFyQS"
      },
      "source": [
        "## LSTM Encoder-Decoder"
      ]
    },
    {
      "cell_type": "code",
      "metadata": {
        "id": "V196bxu_qViq"
      },
      "source": [
        "import tensorflow as tf\n",
        "from tensorflow.keras.layers import Dense, Input, Flatten, LSTM, RepeatVector, Reshape, BatchNormalization\n",
        "from tensorflow.keras.models import Model\n",
        "from tensorflow.compat.v1.keras.layers import CuDNNLSTM\n",
        "\n",
        "inps = Input(shape=(1, 1000, 12), name='in')\n",
        "x = Reshape((1000, 12), name='reshape')(inps)\n",
        "x = BatchNormalization(axis=1, name='normalize')(x)\n",
        "encoder = LSTM(units=100, \n",
        "                    return_sequences=True,\n",
        "                    return_state=True,\n",
        "                    name='encoder')\n",
        "\n",
        "x, state_h, state_c = encoder(x)\n",
        "\n",
        "decoder = LSTM(units=100, \n",
        "                    return_sequences=True,\n",
        "                    return_state=True,\n",
        "                    name='decoder')\n",
        "\n",
        "x, *_ = decoder(x, [state_h, state_c])\n",
        "\n",
        "x = Flatten(name='flatten')(x)\n",
        "x = Dense(2000, activation='relu', name='dense1')(x)\n",
        "x = Dense( 625, activation='relu', name='dense2')(x)\n",
        "x = Dense(  25, activation='relu', name='dense3')(x)\n",
        "outs = Dense(5, activation='softmax', name='out')(x)\n",
        "model = Model(inputs=inps, outputs=outs)"
      ],
      "execution_count": null,
      "outputs": []
    },
    {
      "cell_type": "code",
      "metadata": {
        "colab": {
          "base_uri": "https://localhost:8080/",
          "height": 754
        },
        "id": "HZjPBMKTtyhZ",
        "outputId": "411a4c51-2a6f-421f-8b95-ad1a357c9688"
      },
      "source": [
        "tf.keras.utils.plot_model(model, show_shapes=True)"
      ],
      "execution_count": null,
      "outputs": [
        {
          "output_type": "execute_result",
          "data": {
            "image/png": "[encoded data removed]",
            "text/plain": [
              "<IPython.core.display.Image object>"
            ]
          },
          "metadata": {},
          "execution_count": 8
        }
      ]
    },
    {
      "cell_type": "code",
      "metadata": {
        "id": "bqnC81OjoEt8"
      },
      "source": [
        ""
      ],
      "execution_count": null,
      "outputs": []
    },
    {
      "cell_type": "code",
      "metadata": {
        "colab": {
          "base_uri": "https://localhost:8080/"
        },
        "id": "4J85BoWMvYCW",
        "outputId": "0ac16bc5-5b8d-4389-aa10-f7c2aa66130f"
      },
      "source": [
        "model.compile(optimizer='adam', \n",
        "              loss='categorical_crossentropy', \n",
        "              metrics=['accuracy'])\n",
        "\n",
        "model.fit(train_batch, validation_data=valid_batch, epochs=3)"
      ],
      "execution_count": null,
      "outputs": [
        {
          "output_type": "stream",
          "name": "stdout",
          "text": [
            "Epoch 1/3\n",
            "172/172 [==============================] - 79s 441ms/step - loss: 1.2116 - accuracy: 0.5705 - val_loss: 1.2289 - val_accuracy: 0.5612\n",
            "Epoch 2/3\n",
            "172/172 [==============================] - 74s 433ms/step - loss: 1.0598 - accuracy: 0.6125 - val_loss: 1.1082 - val_accuracy: 0.6028\n",
            "Epoch 3/3\n",
            "172/172 [==============================] - 74s 431ms/step - loss: 0.9440 - accuracy: 0.6415 - val_loss: 1.1494 - val_accuracy: 0.6186\n"
          ]
        },
        {
          "output_type": "execute_result",
          "data": {
            "text/plain": [
              "<keras.callbacks.History at 0x7f4ea6f27dd0>"
            ]
          },
          "metadata": {},
          "execution_count": 26
        }
      ]
    },
    {
      "cell_type": "code",
      "metadata": {
        "colab": {
          "base_uri": "https://localhost:8080/"
        },
        "id": "FgxAR56of9r5",
        "outputId": "a637ae04-758a-4c8b-a38b-93c3ff404891"
      },
      "source": [
        "X = np.expand_dims(X_valid, axis=1)\n",
        "model.predict(X)"
      ],
      "execution_count": null,
      "outputs": [
        {
          "output_type": "execute_result",
          "data": {
            "text/plain": [
              "array([[4.51801457e-02, 5.76802529e-02, 8.74922946e-02, 6.93468809e-01,\n",
              "        1.16178557e-01],\n",
              "       [3.68188112e-03, 1.37406467e-02, 9.64622572e-03, 9.54706848e-01,\n",
              "        1.82244964e-02],\n",
              "       [2.39199586e-03, 9.73935705e-03, 6.58433139e-03, 9.68004823e-01,\n",
              "        1.32793905e-02],\n",
              "       ...,\n",
              "       [5.89164533e-03, 4.23762435e-03, 1.51466401e-02, 9.42618787e-01,\n",
              "        3.21052782e-02],\n",
              "       [5.70928620e-04, 4.05750331e-03, 1.80144748e-03, 9.89825904e-01,\n",
              "        3.74422502e-03],\n",
              "       [8.02896097e-02, 6.61428198e-02, 1.42676234e-01, 5.37522376e-01,\n",
              "        1.73368946e-01]], dtype=float32)"
            ]
          },
          "metadata": {},
          "execution_count": 27
        }
      ]
    },
    {
      "cell_type": "markdown",
      "metadata": {
        "id": "wLj6li5fznZL"
      },
      "source": [
        "## Convolutional neural network\n",
        "\n",
        "> https://towardsdatascience.com/time-series-classification-with-deep-learning-d238f0147d6f"
      ]
    },
    {
      "cell_type": "code",
      "metadata": {
        "id": "XEzt7CxPzM_v"
      },
      "source": [
        "import tensorflow as tf\n",
        "from tensorflow.keras.layers import Dense, Conv1D, MaxPooling1D, Conv2D, MaxPool2D, AveragePooling2D\n",
        "from tensorflow.keras.layers import BatchNormalization, LeakyReLU, ReLU\n",
        "from tensorflow.keras.layers import Input, Flatten, Reshape, Dropout\n",
        "from tensorflow.keras.models import Model, Sequential\n",
        "from tensorflow.compat.v1.keras.layers import CuDNNLSTM\n",
        "\n",
        "input = Input(shape=(1000,12), name='input')\n",
        "\n",
        "x = Reshape((1000, 12,1))(input)\n",
        "\n",
        "x = Conv2D(128, 5, padding='same', use_bias=False)(x)\n",
        "x = BatchNormalization()(x)\n",
        "x = ReLU(0.2)(x)\n",
        "x = MaxPool2D()(x)\n",
        "x = Dropout(0.25)(input)\n",
        "\n",
        "x = Conv2D(64, 5, padding='same', use_bias=False)(x)\n",
        "x = BatchNormalization()(x)\n",
        "x = ReLU(0.2)(x)\n",
        "x = MaxPool2D()(x)\n",
        "x = Dropout(0.25)(input)\n",
        "\n",
        "x = Conv2D(64, 5, padding='same', use_bias=False)(x)\n",
        "x = BatchNormalization()(x)\n",
        "x = ReLU(0.2)(x)\n",
        "x = MaxPool2D()(x)\n",
        "x = Dropout(0.25)(input)\n",
        "\n",
        "x = Flatten()(x)\n",
        "x = Dense(128)(x)\n",
        "x = Dense(64)(x)\n",
        "output = Dense(5, activation='softmax')(x)\n",
        "model = Model(inputs=input, outputs=output)"
      ],
      "execution_count": null,
      "outputs": []
    },
    {
      "cell_type": "code",
      "metadata": {
        "colab": {
          "base_uri": "https://localhost:8080/"
        },
        "id": "8RWV_TsF6vf7",
        "outputId": "300a9988-207f-45c3-92c5-f99eaffbe13b"
      },
      "source": [
        "model.summary()"
      ],
      "execution_count": 40,
      "outputs": [
        {
          "output_type": "stream",
          "name": "stdout",
          "text": [
            "Model: \"model_5\"\n",
            "_________________________________________________________________\n",
            "Layer (type)                 Output Shape              Param #   \n",
            "=================================================================\n",
            "input (InputLayer)           [(None, 1000, 12)]        0         \n",
            "_________________________________________________________________\n",
            "dropout_22 (Dropout)         (None, 1000, 12)          0         \n",
            "_________________________________________________________________\n",
            "reshape_7 (Reshape)          (None, 1000, 12, 1)       0         \n",
            "_________________________________________________________________\n",
            "conv2d_23 (Conv2D)           (None, 1000, 12, 128)     2048      \n",
            "_________________________________________________________________\n",
            "batch_normalization_22 (Batc (None, 1000, 12, 128)     512       \n",
            "_________________________________________________________________\n",
            "re_lu_22 (ReLU)              (None, 1000, 12, 128)     0         \n",
            "_________________________________________________________________\n",
            "average_pooling2d_17 (Averag (None, 500, 6, 128)       0         \n",
            "_________________________________________________________________\n",
            "conv2d_24 (Conv2D)           (None, 500, 6, 64)        131072    \n",
            "_________________________________________________________________\n",
            "batch_normalization_23 (Batc (None, 500, 6, 64)        256       \n",
            "_________________________________________________________________\n",
            "re_lu_23 (ReLU)              (None, 500, 6, 64)        0         \n",
            "_________________________________________________________________\n",
            "average_pooling2d_18 (Averag (None, 250, 3, 64)        0         \n",
            "_________________________________________________________________\n",
            "conv2d_25 (Conv2D)           (None, 250, 3, 30)        30720     \n",
            "_________________________________________________________________\n",
            "batch_normalization_24 (Batc (None, 250, 3, 30)        120       \n",
            "_________________________________________________________________\n",
            "re_lu_24 (ReLU)              (None, 250, 3, 30)        0         \n",
            "_________________________________________________________________\n",
            "average_pooling2d_19 (Averag (None, 125, 1, 30)        0         \n",
            "_________________________________________________________________\n",
            "flatten_5 (Flatten)          (None, 3750)              0         \n",
            "_________________________________________________________________\n",
            "dense_15 (Dense)             (None, 128)               480128    \n",
            "_________________________________________________________________\n",
            "dense_16 (Dense)             (None, 64)                8256      \n",
            "_________________________________________________________________\n",
            "dense_17 (Dense)             (None, 5)                 325       \n",
            "=================================================================\n",
            "Total params: 653,437\n",
            "Trainable params: 652,993\n",
            "Non-trainable params: 444\n",
            "_________________________________________________________________\n"
          ]
        }
      ]
    },
    {
      "cell_type": "code",
      "metadata": {
        "id": "g6uByOYuEDvc"
      },
      "source": [
        "from tensorflow.keras.callbacks import EarlyStopping\n",
        "model.compile(optimizer='adam', \n",
        "              loss='categorical_crossentropy', \n",
        "              metrics=['accuracy'])\n",
        "\n",
        "earlystopping = EarlyStopping(monitor='val_accuracy',\n",
        "                              patience=5,\n",
        "                              restore_best_weights=True)\n",
        "\n",
        "history = model.fit(X_train[:,:,:,None], y_train, validation_data=(X_valid[:,:,:,None], y_valid),epochs=20,batch_size=64, callbacks=[earlystopping])"
      ],
      "execution_count": null,
      "outputs": []
    },
    {
      "cell_type": "code",
      "metadata": {
        "id": "UTtsMbJznUlq",
        "outputId": "cf6e59cd-f33e-49b5-e52f-6160c75a930b",
        "colab": {
          "base_uri": "https://localhost:8080/"
        }
      },
      "source": [
        "model.evaluate(X_valid,y_valid)"
      ],
      "execution_count": 26,
      "outputs": [
        {
          "output_type": "stream",
          "name": "stdout",
          "text": [
            "115/115 [==============================] - 1s 10ms/step - loss: 0.7068 - accuracy: 0.7685\n"
          ]
        },
        {
          "output_type": "execute_result",
          "data": {
            "text/plain": [
              "[0.7068428993225098, 0.7684527039527893]"
            ]
          },
          "metadata": {},
          "execution_count": 26
        }
      ]
    },
    {
      "cell_type": "code",
      "metadata": {
        "colab": {
          "base_uri": "https://localhost:8080/"
        },
        "id": "66t30UAKFps2",
        "outputId": "b73b5712-da1d-47a1-d5ef-1880c40979d7"
      },
      "source": [
        "X_test = np.load('/content/ECG_X_test.npy')\n",
        "X_test.shape"
      ],
      "execution_count": 27,
      "outputs": [
        {
          "output_type": "execute_result",
          "data": {
            "text/plain": [
              "(1642, 1000, 12)"
            ]
          },
          "metadata": {},
          "execution_count": 27
        }
      ]
    },
    {
      "cell_type": "code",
      "metadata": {
        "colab": {
          "base_uri": "https://localhost:8080/"
        },
        "id": "QKRBXpVWKV8c",
        "outputId": "5a579814-7b09-4367-e1c8-9ec13f074200"
      },
      "source": [
        "preds = model.predict(X_test)\n",
        "y_test = np.argmax(preds, axis=-1)\n",
        "y_test = pd.DataFrame({'Class': y_test})\n",
        "y_test.insert(0, 'Patient_ID', y_test.index)\n",
        "y_test.shape"
      ],
      "execution_count": 19,
      "outputs": [
        {
          "output_type": "execute_result",
          "data": {
            "text/plain": [
              "(1642, 2)"
            ]
          },
          "metadata": {},
          "execution_count": 19
        }
      ]
    },
    {
      "cell_type": "code",
      "metadata": {
        "id": "6UWgdBOqKbHq"
      },
      "source": [
        "y_test.to_csv('y_test.csv', index=False)"
      ],
      "execution_count": 20,
      "outputs": []
    },
    {
      "cell_type": "code",
      "metadata": {
        "id": "VpsNqxY7SlxV"
      },
      "source": [
        "model.save('submission02.h5')"
      ],
      "execution_count": 21,
      "outputs": []
    }
  ]
}